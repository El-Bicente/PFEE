{
 "cells": [
  {
   "cell_type": "code",
   "execution_count": 1,
   "id": "618d4639-8c03-46e3-ad77-b484e1774a94",
   "metadata": {},
   "outputs": [],
   "source": [
    "import pandas as pd\n",
    "import math\n",
    "import numpy as np\n",
    "import matplotlib.pyplot as plt"
   ]
  },
  {
   "cell_type": "code",
   "execution_count": 2,
   "id": "7670f875-51b0-4cc6-a6d9-d6e664ea9a1e",
   "metadata": {},
   "outputs": [],
   "source": [
    "def wave_function(x, y):\n",
    "    return math.sin(math.sqrt(x*x + y*y))"
   ]
  },
  {
   "cell_type": "code",
   "execution_count": 3,
   "id": "46d407cc-e00c-45c4-a669-e74cfadc4f76",
   "metadata": {},
   "outputs": [],
   "source": [
    "def build_points(f, step, size):\n",
    "    spacing = step\n",
    "    spacing_height = math.sqrt(step**2-(step/2)**2) \n",
    "    point_ids = np.zeros((size * 2,size * 2)).astype(\"int\")\n",
    "    id_cpt = 0\n",
    "    csv = []\n",
    "    for xi in range(-size, size):\n",
    "        for yi in range(-size, size):\n",
    "            x = xi * spacing + (yi%2 * (spacing / 2))\n",
    "            y = yi * spacing_height\n",
    "            point_ids[yi + size, xi + size] = id_cpt\n",
    "            csv.append((id_cpt, x, y, 0, f(x,y)))\n",
    "            id_cpt += 1\n",
    "    df = pd.DataFrame(csv)\n",
    "    df.columns = [\"Node Number\", \"X\", \"Y\", \"Z\", \"Weight\"]\n",
    "    df.to_csv(\"points.csv\", index=False)\n",
    "    return point_ids, df"
   ]
  },
  {
   "cell_type": "code",
   "execution_count": 4,
   "id": "6caff5f9-6e16-4f21-ade7-749afb79622b",
   "metadata": {},
   "outputs": [],
   "source": [
    "def calculate_mid_line(points_df, id1, id2):\n",
    "    row_id1 = points_df[points_df[\"Node Number\"] == id1].values[0]\n",
    "    row_id2 = points_df[points_df[\"Node Number\"] == id2].values[0]\n",
    "    x1, y1 = row_id1[1], row_id1[2]\n",
    "    x2, y2 = row_id2[1], row_id2[2]\n",
    "    xm = x1 + (x2 - x1) / 2\n",
    "    ym = y1 + (y2 - y1) / 2\n",
    "    return (xm, ym)\n",
    "    \n",
    "def build_lines(point_ids, points_df, f):\n",
    "    csv = []\n",
    "    for i in range (point_ids.shape[0]):\n",
    "        for j in range (point_ids.shape[1]):\n",
    "            if (i + 1 < point_ids.shape[0]):\n",
    "                mid_coord = calculate_mid_line(points_df, point_ids[i, j], point_ids[i + 1, j])\n",
    "                csv.append((point_ids[i, j], point_ids[i + 1, j], f(mid_coord[0], mid_coord[1]), mid_coord[0], mid_coord[1]))\n",
    "            if (j + 1 < point_ids.shape[1]):\n",
    "                mid_coord = calculate_mid_line(points_df, point_ids[i, j], point_ids[i, j + 1])\n",
    "                csv.append((point_ids[i, j], point_ids[i, j + 1], f(mid_coord[0], mid_coord[1]), mid_coord[0], mid_coord[1]))\n",
    "            if ((j + 1 < point_ids.shape[1]) and (i + 1 < point_ids.shape[0])):\n",
    "                mid_coord = calculate_mid_line(points_df, point_ids[i, j], point_ids[i + 1, j + 1])\n",
    "                csv.append((point_ids[i, j], point_ids[i + 1, j + 1], f(mid_coord[0], mid_coord[1]), mid_coord[0], mid_coord[1]))\n",
    "    df = pd.DataFrame(csv)\n",
    "    df.columns = [\"P1\", \"P2\", \"Weight\", \"pw1\", \"pw2\"]\n",
    "    df.to_csv(\"lines.csv\", index=False)\n",
    "    return df"
   ]
  },
  {
   "cell_type": "code",
   "execution_count": 22,
   "id": "738ae795-d555-4aa7-a944-63ba4d476876",
   "metadata": {},
   "outputs": [],
   "source": [
    "def get_id(key, lines_df):\n",
    "    return int(lines_df[(lines_df.P1 == key[0]) & (lines_df.P2 == key[1])].values[0][0])\n",
    "    \n",
    "def build_triangle(point_ids, lines_df, step, points_df, f, size):\n",
    "    csv = []\n",
    "    #H: Hauteur du triangle\n",
    "    #C1: Taille d'un coté\n",
    "    #Centroid: (H/2) - (C1²/8H)\n",
    "    C1 = step\n",
    "    H = math.sqrt(step**2-(step/2)**2)\n",
    "    cent_dist = H / 3#(H/2) - ((C1**2)/(8*H))\n",
    "    deg = math.radians(60)\n",
    "    cent_xy = (cent_dist * math.sin(deg), cent_dist * math.cos(deg))\n",
    "    for i in range (point_ids.shape[0]):\n",
    "        for j in range (point_ids.shape[1]):\n",
    "            if ((i + 1 < point_ids.shape[0]) and (j + 1 < point_ids.shape[1])):\n",
    "                mid_coord = calculate_mid_line(points_df, point_ids[i, j], point_ids[i + 1, j + 1])\n",
    "                coef = 1 if (size % 2 != i % 2) else -1\n",
    "                cent_coord1 = (mid_coord[0] - cent_xy[0], mid_coord[1] + cent_xy[1] * coef)\n",
    "                cent_coord2 = (mid_coord[0] + cent_xy[0], mid_coord[1] + cent_xy[1] * (- coef))              \n",
    "                if (size % 2 == i % 2):\n",
    "                    csv.append((point_ids[i, j], point_ids[i + 1, j], point_ids[i + 1, j + 1], f(cent_coord1[0], cent_coord1[1]), cent_coord1[0], cent_coord1[1]))\n",
    "                    csv.append((point_ids[i, j], point_ids[i, j + 1], point_ids[i + 1, j + 1], f(cent_coord2[0], cent_coord2[1]), cent_coord2[0], cent_coord2[1]))\n",
    "                else:\n",
    "                    csv.append((point_ids[i, j], point_ids[i + 1, j], point_ids[i, j + 1], f(cent_coord1[0], cent_coord1[1]), cent_coord1[0], cent_coord1[1]))\n",
    "                    csv.append((point_ids[i + 1, j], point_ids[i, j + 1], point_ids[i + 1, j + 1], f(cent_coord2[0], cent_coord2[1]), cent_coord2[0], cent_coord2[1]))                    \n",
    "    df = pd.DataFrame(csv)\n",
    "    df.columns = [\"S1\", \"S2\", \"S3\", \"Weight\", \"pw1\", \"pw2\"]\n",
    "    df.to_csv(\"triangles.csv\", index=False)\n",
    "    return df"
   ]
  },
  {
   "cell_type": "code",
   "execution_count": 25,
   "id": "b64d6e06-067a-4909-ac72-473090a6054e",
   "metadata": {},
   "outputs": [
    {
     "name": "stdout",
     "output_type": "stream",
     "text": [
      "[[ 0  4  8 12]\n",
      " [ 1  5  9 13]\n",
      " [ 2  6 10 14]\n",
      " [ 3  7 11 15]]\n"
     ]
    }
   ],
   "source": [
    "step = 8\n",
    "size = 2\n",
    "point_ids, points_df = build_points(wave_function, step, size)\n",
    "lines_df = build_lines(point_ids, points_df, wave_function)\n",
    "triangles_df = build_triangle(point_ids, lines_df, step, points_df, wave_function, size)\n",
    "print(point_ids)"
   ]
  },
  {
   "cell_type": "code",
   "execution_count": 26,
   "id": "3f1c5015-2cda-4244-813e-13e543a2515d",
   "metadata": {},
   "outputs": [
    {
     "data": {
      "text/plain": [
       "<matplotlib.collections.PathCollection at 0x7f2d14886580>"
      ]
     },
     "execution_count": 26,
     "metadata": {},
     "output_type": "execute_result"
    },
    {
     "data": {
      "image/png": "[encoded data removed]",
      "text/plain": [
       "<Figure size 432x288 with 1 Axes>"
      ]
     },
     "metadata": {
      "needs_background": "light"
     },
     "output_type": "display_data"
    }
   ],
   "source": [
    "fig = plt.figure()\n",
    "ax1 = fig.add_subplot(111)\n",
    "\n",
    "ax1.scatter(points_df.X, points_df.Y, s=10, c='b', marker=\"s\", label='first')\n",
    "ax1.scatter(lines_df.pw1,lines_df.pw2, s=10, c='r', marker=\"o\", label='second')\n",
    "ax1.scatter(triangles_df.pw1,triangles_df.pw2, s=10, c='g', marker=\"s\", label='third')"
   ]
  },
  {
   "cell_type": "code",
   "execution_count": null,
   "id": "0d55afde-a555-44e6-9a22-aec8bc27a6a0",
   "metadata": {},
   "outputs": [],
   "source": []
  }
 ],
 "metadata": {
  "kernelspec": {
   "display_name": "Python 3 (ipykernel)",
   "language": "python",
   "name": "python3"
  },
  "language_info": {
   "codemirror_mode": {
    "name": "ipython",
    "version": 3
   },
   "file_extension": ".py",
   "mimetype": "text/x-python",
   "name": "python",
   "nbconvert_exporter": "python",
   "pygments_lexer": "ipython3",
   "version": "3.8.10"
  }
 },
 "nbformat": 4,
 "nbformat_minor": 5
}
